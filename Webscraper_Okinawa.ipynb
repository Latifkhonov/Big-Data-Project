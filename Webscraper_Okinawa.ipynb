{
 "cells": [
  {
   "cell_type": "code",
   "execution_count": 1,
   "id": "afe7b333-87d7-45cd-9831-ef4991fc332e",
   "metadata": {},
   "outputs": [
    {
     "name": "stdout",
     "output_type": "stream",
     "text": [
      "Requirement already satisfied: beautifulsoup4 in /opt/anaconda3/lib/python3.11/site-packages (4.12.2)\n",
      "Requirement already satisfied: soupsieve>1.2 in /opt/anaconda3/lib/python3.11/site-packages (from beautifulsoup4) (2.5)\n"
     ]
    }
   ],
   "source": [
    "!pip install beautifulsoup4"
   ]
  },
  {
   "cell_type": "code",
   "execution_count": 1,
   "id": "8aded79f-efb9-4e6f-a14e-47edcd01875a",
   "metadata": {},
   "outputs": [],
   "source": [
    "from bs4 import BeautifulSoup\n",
    "import requests\n",
    "import re"
   ]
  },
  {
   "cell_type": "code",
   "execution_count": 2,
   "id": "e3613efc-b13e-4bf1-b49b-82f1c42f5b5e",
   "metadata": {},
   "outputs": [],
   "source": [
    "url = \"https://www.okiden.co.jp/denki2/dl/\"\n",
    "response = requests.get(url)\n",
    "\n",
    "# Parse the HTML content\n",
    "soup = BeautifulSoup(response.content, \"html.parser\")"
   ]
  },
  {
   "cell_type": "code",
   "execution_count": 3,
   "id": "aff06204-27ed-4268-8565-26ac695f1db6",
   "metadata": {},
   "outputs": [],
   "source": [
    "link_tags = soup.find_all(\"a\", href=True)\n",
    "csv_links = [link[\"href\"] for link in link_tags if re.search(r'\\.csv$', link[\"href\"])]    "
   ]
  },
  {
   "cell_type": "code",
   "execution_count": 4,
   "id": "e040a469-9694-43e0-9e4c-52f4739edfdd",
   "metadata": {},
   "outputs": [],
   "source": [
    "base_url = \"https://www.okiden.co.jp/denki2/dl/\"\n",
    "csv_dict = {}"
   ]
  },
  {
   "cell_type": "code",
   "execution_count": 12,
   "id": "d1cb1110-4744-4794-94f6-178ac5d37dd2",
   "metadata": {},
   "outputs": [],
   "source": [
    "yearlyMonthly_links = soup.find_all(\"a\", href=re.compile(r'^\\./\\d{4}/\\d{6}\\.html$'))"
   ]
  },
  {
   "cell_type": "code",
   "execution_count": 15,
   "id": "7134d482-e3ad-4d52-b0b8-f2ce4f9b9ae6",
   "metadata": {},
   "outputs": [
    {
     "name": "stdout",
     "output_type": "stream",
     "text": [
      "Found 98 months in total\n"
     ]
    }
   ],
   "source": [
    "print(f'Found {len(yearlyMonthly_links)} months in total')"
   ]
  },
  {
   "cell_type": "code",
   "execution_count": 33,
   "id": "c243ce68-a803-4221-9f3a-75b1c9aea906",
   "metadata": {},
   "outputs": [
    {
     "data": {
      "text/plain": [
       "['2024/202405', 'html']"
      ]
     },
     "execution_count": 33,
     "metadata": {},
     "output_type": "execute_result"
    }
   ],
   "source": [
    "yearlyMonthly_links[0]['href'][2:].split('.')"
   ]
  },
  {
   "cell_type": "code",
   "execution_count": 39,
   "id": "78807f71-2b1f-4626-9867-1821e0abd99b",
   "metadata": {},
   "outputs": [],
   "source": [
    "database = {}"
   ]
  },
  {
   "cell_type": "code",
   "execution_count": null,
   "id": "70e33cb4-3632-4023-b98a-105590bcde3c",
   "metadata": {},
   "outputs": [],
   "source": [
    "# https://www.okiden.co.jp/denki2/juyo_10_20240516.csv"
   ]
  },
  {
   "cell_type": "code",
   "execution_count": 79,
   "id": "e6507469-eaaa-4941-a35f-f00dc0dfab63",
   "metadata": {},
   "outputs": [],
   "source": [
    "for month in yearlyMonthly_links:\n",
    "    sublink = month['href'][2:]\n",
    "    year = int(sublink.split('/')[0])\n",
    "    database[year] = {}\n",
    "    month = int(sublink.split('.')[0][-2:])\n",
    "    database[year][month] = {}\n",
    "    monthlink = base_url + sublink\n",
    "    monthly_response = requests.get(monthlink)\n",
    "    monthly_soup = BeautifulSoup(monthly_response.content, \"html.parser\")\n",
    "    link_div = monthly_soup.find(\"div\", class_=\"mt-50\")\n",
    "    day_links = link_div.find_all(\"a\", href=True)\n",
    "    for day_link in day_links:\n",
    "        single_day = day_link['href'].split('/')[-1]\n",
    "        day = single_day.split('.')[-2][-2:]\n",
    "        database[year][month][day] = None\n",
    "        full_link = '/'.join(monthlink.split('/')[:-3])+'/'+single_day\n",
    "        database[year][month][day] = full_link\n",
    "        # print('Year {0}, month {1}, day {2}, link: {3}'.format(year, month, day, full_link))"
   ]
  },
  {
   "cell_type": "code",
   "execution_count": 80,
   "id": "fcd877f8-6c70-4e34-9c6a-b70e88db259e",
   "metadata": {},
   "outputs": [
    {
     "data": {
      "text/plain": [
       "9"
      ]
     },
     "execution_count": 80,
     "metadata": {},
     "output_type": "execute_result"
    }
   ],
   "source": [
    "len(database)"
   ]
  },
  {
   "cell_type": "code",
   "execution_count": 81,
   "id": "6d0839b4-374c-4c8d-843b-66cb9857213a",
   "metadata": {},
   "outputs": [],
   "source": [
    "### database is nested dict where we have all links."
   ]
  },
  {
   "cell_type": "code",
   "execution_count": 82,
   "id": "15e9f633-21db-4e3f-ae9f-7b931961b761",
   "metadata": {},
   "outputs": [],
   "source": [
    "### Now lets download them and put to appropriate foders"
   ]
  },
  {
   "cell_type": "code",
   "execution_count": 86,
   "id": "1a6066ee-d2b2-4e98-89d6-fe1dc23fe794",
   "metadata": {},
   "outputs": [],
   "source": [
    "import os"
   ]
  },
  {
   "cell_type": "code",
   "execution_count": 87,
   "id": "0217fb03-fbbf-4e8d-b2a9-f57188c5ba25",
   "metadata": {},
   "outputs": [],
   "source": [
    "def download_csv_files(database):\n",
    "    base_folder = \"CSV_Files\"\n",
    "    if not os.path.exists(base_folder):\n",
    "        os.makedirs(base_folder)\n",
    "\n",
    "    for year, months in database.items():\n",
    "        year_folder = os.path.join(base_folder, str(year))\n",
    "        if not os.path.exists(year_folder):\n",
    "            os.makedirs(year_folder)\n",
    "\n",
    "        for month, days in months.items():\n",
    "            month_folder = os.path.join(year_folder, str(month).zfill(2))\n",
    "            if not os.path.exists(month_folder):\n",
    "                os.makedirs(month_folder)\n",
    "\n",
    "            for day, url in days.items():\n",
    "                response = requests.get(url)\n",
    "                if response.status_code == 200:\n",
    "                    file_name = f\"{year}{str(month).zfill(2)}{str(day).zfill(2)}.csv\"\n",
    "                    file_path = os.path.join(month_folder, file_name)\n",
    "                    with open(file_path, 'wb') as f:\n",
    "                        f.write(response.content)\n",
    "                    print(f\"Downloaded: {file_path}\")\n",
    "                else:\n",
    "                    print(f\"Failed to download: {url}\")\n"
   ]
  },
  {
   "cell_type": "code",
   "execution_count": 88,
   "id": "d5348e9e-ed5e-402a-82cc-ce1b5c9a52c8",
   "metadata": {
    "scrolled": true
   },
   "outputs": [
    {
     "name": "stdout",
     "output_type": "stream",
     "text": [
      "Downloaded: CSV_Files/2024/04/20240430.csv\n",
      "Downloaded: CSV_Files/2024/04/20240429.csv\n",
      "Downloaded: CSV_Files/2024/04/20240428.csv\n",
      "Downloaded: CSV_Files/2024/04/20240427.csv\n",
      "Downloaded: CSV_Files/2024/04/20240426.csv\n",
      "Downloaded: CSV_Files/2024/04/20240425.csv\n",
      "Downloaded: CSV_Files/2024/04/20240424.csv\n",
      "Downloaded: CSV_Files/2024/04/20240423.csv\n",
      "Downloaded: CSV_Files/2024/04/20240422.csv\n",
      "Downloaded: CSV_Files/2024/04/20240421.csv\n",
      "Downloaded: CSV_Files/2024/04/20240420.csv\n",
      "Downloaded: CSV_Files/2024/04/20240419.csv\n",
      "Downloaded: CSV_Files/2024/04/20240418.csv\n",
      "Downloaded: CSV_Files/2024/04/20240417.csv\n",
      "Downloaded: CSV_Files/2024/04/20240416.csv\n",
      "Downloaded: CSV_Files/2024/04/20240415.csv\n",
      "Downloaded: CSV_Files/2024/04/20240414.csv\n",
      "Downloaded: CSV_Files/2024/04/20240413.csv\n",
      "Downloaded: CSV_Files/2024/04/20240412.csv\n",
      "Downloaded: CSV_Files/2024/04/20240411.csv\n",
      "Downloaded: CSV_Files/2024/04/20240410.csv\n",
      "Downloaded: CSV_Files/2024/04/20240409.csv\n",
      "Downloaded: CSV_Files/2024/04/20240408.csv\n",
      "Downloaded: CSV_Files/2024/04/20240407.csv\n",
      "Downloaded: CSV_Files/2024/04/20240406.csv\n",
      "Downloaded: CSV_Files/2024/04/20240405.csv\n",
      "Downloaded: CSV_Files/2024/04/20240404.csv\n",
      "Downloaded: CSV_Files/2024/04/20240403.csv\n",
      "Downloaded: CSV_Files/2024/04/20240402.csv\n",
      "Downloaded: CSV_Files/2024/04/20240401.csv\n",
      "Downloaded: CSV_Files/2023/04/20230430.csv\n",
      "Downloaded: CSV_Files/2023/04/20230429.csv\n",
      "Downloaded: CSV_Files/2023/04/20230428.csv\n",
      "Downloaded: CSV_Files/2023/04/20230427.csv\n",
      "Downloaded: CSV_Files/2023/04/20230426.csv\n",
      "Downloaded: CSV_Files/2023/04/20230425.csv\n",
      "Downloaded: CSV_Files/2023/04/20230424.csv\n",
      "Downloaded: CSV_Files/2023/04/20230423.csv\n",
      "Downloaded: CSV_Files/2023/04/20230422.csv\n",
      "Downloaded: CSV_Files/2023/04/20230421.csv\n",
      "Downloaded: CSV_Files/2023/04/20230420.csv\n",
      "Downloaded: CSV_Files/2023/04/20230419.csv\n",
      "Downloaded: CSV_Files/2023/04/20230418.csv\n",
      "Downloaded: CSV_Files/2023/04/20230417.csv\n",
      "Downloaded: CSV_Files/2023/04/20230416.csv\n",
      "Downloaded: CSV_Files/2023/04/20230415.csv\n",
      "Downloaded: CSV_Files/2023/04/20230414.csv\n",
      "Downloaded: CSV_Files/2023/04/20230413.csv\n",
      "Downloaded: CSV_Files/2023/04/20230412.csv\n",
      "Downloaded: CSV_Files/2023/04/20230411.csv\n",
      "Downloaded: CSV_Files/2023/04/20230410.csv\n",
      "Downloaded: CSV_Files/2023/04/20230409.csv\n",
      "Downloaded: CSV_Files/2023/04/20230408.csv\n",
      "Downloaded: CSV_Files/2023/04/20230407.csv\n",
      "Downloaded: CSV_Files/2023/04/20230406.csv\n",
      "Downloaded: CSV_Files/2023/04/20230405.csv\n",
      "Downloaded: CSV_Files/2023/04/20230404.csv\n",
      "Downloaded: CSV_Files/2023/04/20230403.csv\n",
      "Downloaded: CSV_Files/2023/04/20230402.csv\n",
      "Downloaded: CSV_Files/2023/04/20230401.csv\n",
      "Downloaded: CSV_Files/2022/04/20220430.csv\n",
      "Downloaded: CSV_Files/2022/04/20220429.csv\n",
      "Downloaded: CSV_Files/2022/04/20220428.csv\n",
      "Downloaded: CSV_Files/2022/04/20220427.csv\n",
      "Downloaded: CSV_Files/2022/04/20220426.csv\n",
      "Downloaded: CSV_Files/2022/04/20220425.csv\n",
      "Downloaded: CSV_Files/2022/04/20220424.csv\n",
      "Downloaded: CSV_Files/2022/04/20220423.csv\n",
      "Downloaded: CSV_Files/2022/04/20220422.csv\n",
      "Downloaded: CSV_Files/2022/04/20220421.csv\n",
      "Downloaded: CSV_Files/2022/04/20220420.csv\n",
      "Downloaded: CSV_Files/2022/04/20220419.csv\n",
      "Downloaded: CSV_Files/2022/04/20220418.csv\n",
      "Downloaded: CSV_Files/2022/04/20220417.csv\n",
      "Downloaded: CSV_Files/2022/04/20220416.csv\n",
      "Downloaded: CSV_Files/2022/04/20220415.csv\n",
      "Downloaded: CSV_Files/2022/04/20220414.csv\n",
      "Downloaded: CSV_Files/2022/04/20220413.csv\n",
      "Downloaded: CSV_Files/2022/04/20220412.csv\n",
      "Downloaded: CSV_Files/2022/04/20220411.csv\n",
      "Downloaded: CSV_Files/2022/04/20220410.csv\n",
      "Downloaded: CSV_Files/2022/04/20220409.csv\n",
      "Downloaded: CSV_Files/2022/04/20220408.csv\n",
      "Downloaded: CSV_Files/2022/04/20220407.csv\n",
      "Downloaded: CSV_Files/2022/04/20220406.csv\n",
      "Downloaded: CSV_Files/2022/04/20220405.csv\n",
      "Downloaded: CSV_Files/2022/04/20220404.csv\n",
      "Downloaded: CSV_Files/2022/04/20220403.csv\n",
      "Downloaded: CSV_Files/2022/04/20220402.csv\n",
      "Downloaded: CSV_Files/2022/04/20220401.csv\n",
      "Downloaded: CSV_Files/2021/04/20210430.csv\n",
      "Downloaded: CSV_Files/2021/04/20210429.csv\n",
      "Downloaded: CSV_Files/2021/04/20210428.csv\n",
      "Downloaded: CSV_Files/2021/04/20210427.csv\n",
      "Downloaded: CSV_Files/2021/04/20210426.csv\n",
      "Downloaded: CSV_Files/2021/04/20210425.csv\n",
      "Downloaded: CSV_Files/2021/04/20210424.csv\n",
      "Downloaded: CSV_Files/2021/04/20210423.csv\n",
      "Downloaded: CSV_Files/2021/04/20210422.csv\n",
      "Downloaded: CSV_Files/2021/04/20210421.csv\n",
      "Downloaded: CSV_Files/2021/04/20210420.csv\n",
      "Downloaded: CSV_Files/2021/04/20210419.csv\n",
      "Downloaded: CSV_Files/2021/04/20210418.csv\n",
      "Downloaded: CSV_Files/2021/04/20210417.csv\n",
      "Downloaded: CSV_Files/2021/04/20210416.csv\n",
      "Downloaded: CSV_Files/2021/04/20210415.csv\n",
      "Downloaded: CSV_Files/2021/04/20210414.csv\n",
      "Downloaded: CSV_Files/2021/04/20210413.csv\n",
      "Downloaded: CSV_Files/2021/04/20210412.csv\n",
      "Downloaded: CSV_Files/2021/04/20210411.csv\n",
      "Downloaded: CSV_Files/2021/04/20210410.csv\n",
      "Downloaded: CSV_Files/2021/04/20210409.csv\n",
      "Downloaded: CSV_Files/2021/04/20210408.csv\n",
      "Downloaded: CSV_Files/2021/04/20210407.csv\n",
      "Downloaded: CSV_Files/2021/04/20210406.csv\n",
      "Downloaded: CSV_Files/2021/04/20210405.csv\n",
      "Downloaded: CSV_Files/2021/04/20210404.csv\n",
      "Downloaded: CSV_Files/2021/04/20210403.csv\n",
      "Downloaded: CSV_Files/2021/04/20210402.csv\n",
      "Downloaded: CSV_Files/2021/04/20210401.csv\n",
      "Downloaded: CSV_Files/2020/04/20200430.csv\n",
      "Downloaded: CSV_Files/2020/04/20200429.csv\n",
      "Downloaded: CSV_Files/2020/04/20200428.csv\n",
      "Downloaded: CSV_Files/2020/04/20200427.csv\n",
      "Downloaded: CSV_Files/2020/04/20200426.csv\n",
      "Downloaded: CSV_Files/2020/04/20200425.csv\n",
      "Downloaded: CSV_Files/2020/04/20200424.csv\n",
      "Downloaded: CSV_Files/2020/04/20200423.csv\n",
      "Downloaded: CSV_Files/2020/04/20200422.csv\n",
      "Downloaded: CSV_Files/2020/04/20200421.csv\n",
      "Downloaded: CSV_Files/2020/04/20200420.csv\n",
      "Downloaded: CSV_Files/2020/04/20200419.csv\n",
      "Downloaded: CSV_Files/2020/04/20200418.csv\n",
      "Downloaded: CSV_Files/2020/04/20200417.csv\n",
      "Downloaded: CSV_Files/2020/04/20200416.csv\n",
      "Downloaded: CSV_Files/2020/04/20200415.csv\n",
      "Downloaded: CSV_Files/2020/04/20200414.csv\n",
      "Downloaded: CSV_Files/2020/04/20200413.csv\n",
      "Downloaded: CSV_Files/2020/04/20200412.csv\n",
      "Downloaded: CSV_Files/2020/04/20200411.csv\n",
      "Downloaded: CSV_Files/2020/04/20200410.csv\n",
      "Downloaded: CSV_Files/2020/04/20200409.csv\n",
      "Downloaded: CSV_Files/2020/04/20200408.csv\n",
      "Downloaded: CSV_Files/2020/04/20200407.csv\n",
      "Downloaded: CSV_Files/2020/04/20200406.csv\n",
      "Downloaded: CSV_Files/2020/04/20200405.csv\n",
      "Downloaded: CSV_Files/2020/04/20200404.csv\n",
      "Downloaded: CSV_Files/2020/04/20200403.csv\n",
      "Downloaded: CSV_Files/2020/04/20200402.csv\n",
      "Downloaded: CSV_Files/2020/04/20200401.csv\n",
      "Downloaded: CSV_Files/2019/04/20190430.csv\n",
      "Downloaded: CSV_Files/2019/04/20190429.csv\n",
      "Downloaded: CSV_Files/2019/04/20190428.csv\n",
      "Downloaded: CSV_Files/2019/04/20190427.csv\n",
      "Downloaded: CSV_Files/2019/04/20190426.csv\n",
      "Downloaded: CSV_Files/2019/04/20190425.csv\n",
      "Downloaded: CSV_Files/2019/04/20190424.csv\n",
      "Downloaded: CSV_Files/2019/04/20190423.csv\n",
      "Downloaded: CSV_Files/2019/04/20190422.csv\n",
      "Downloaded: CSV_Files/2019/04/20190421.csv\n",
      "Downloaded: CSV_Files/2019/04/20190420.csv\n",
      "Downloaded: CSV_Files/2019/04/20190419.csv\n",
      "Downloaded: CSV_Files/2019/04/20190418.csv\n",
      "Downloaded: CSV_Files/2019/04/20190417.csv\n",
      "Downloaded: CSV_Files/2019/04/20190416.csv\n",
      "Downloaded: CSV_Files/2019/04/20190415.csv\n",
      "Downloaded: CSV_Files/2019/04/20190414.csv\n",
      "Downloaded: CSV_Files/2019/04/20190413.csv\n",
      "Downloaded: CSV_Files/2019/04/20190412.csv\n",
      "Downloaded: CSV_Files/2019/04/20190411.csv\n",
      "Downloaded: CSV_Files/2019/04/20190410.csv\n",
      "Downloaded: CSV_Files/2019/04/20190409.csv\n",
      "Downloaded: CSV_Files/2019/04/20190408.csv\n",
      "Downloaded: CSV_Files/2019/04/20190407.csv\n",
      "Downloaded: CSV_Files/2019/04/20190406.csv\n",
      "Downloaded: CSV_Files/2019/04/20190405.csv\n",
      "Downloaded: CSV_Files/2019/04/20190404.csv\n",
      "Downloaded: CSV_Files/2019/04/20190403.csv\n",
      "Downloaded: CSV_Files/2019/04/20190402.csv\n",
      "Downloaded: CSV_Files/2019/04/20190401.csv\n",
      "Downloaded: CSV_Files/2018/04/20180430.csv\n",
      "Downloaded: CSV_Files/2018/04/20180429.csv\n",
      "Downloaded: CSV_Files/2018/04/20180428.csv\n",
      "Downloaded: CSV_Files/2018/04/20180427.csv\n",
      "Downloaded: CSV_Files/2018/04/20180426.csv\n",
      "Downloaded: CSV_Files/2018/04/20180425.csv\n",
      "Downloaded: CSV_Files/2018/04/20180424.csv\n",
      "Downloaded: CSV_Files/2018/04/20180423.csv\n",
      "Downloaded: CSV_Files/2018/04/20180422.csv\n",
      "Downloaded: CSV_Files/2018/04/20180421.csv\n",
      "Downloaded: CSV_Files/2018/04/20180420.csv\n",
      "Downloaded: CSV_Files/2018/04/20180419.csv\n",
      "Downloaded: CSV_Files/2018/04/20180418.csv\n",
      "Downloaded: CSV_Files/2018/04/20180417.csv\n",
      "Downloaded: CSV_Files/2018/04/20180416.csv\n",
      "Downloaded: CSV_Files/2018/04/20180415.csv\n",
      "Downloaded: CSV_Files/2018/04/20180414.csv\n",
      "Downloaded: CSV_Files/2018/04/20180413.csv\n",
      "Downloaded: CSV_Files/2018/04/20180412.csv\n",
      "Downloaded: CSV_Files/2018/04/20180411.csv\n",
      "Downloaded: CSV_Files/2018/04/20180410.csv\n",
      "Downloaded: CSV_Files/2018/04/20180409.csv\n",
      "Downloaded: CSV_Files/2018/04/20180408.csv\n",
      "Downloaded: CSV_Files/2018/04/20180407.csv\n",
      "Downloaded: CSV_Files/2018/04/20180406.csv\n",
      "Downloaded: CSV_Files/2018/04/20180405.csv\n",
      "Downloaded: CSV_Files/2018/04/20180404.csv\n",
      "Downloaded: CSV_Files/2018/04/20180403.csv\n",
      "Downloaded: CSV_Files/2018/04/20180402.csv\n",
      "Downloaded: CSV_Files/2018/04/20180401.csv\n",
      "Downloaded: CSV_Files/2017/04/20170430.csv\n",
      "Downloaded: CSV_Files/2017/04/20170429.csv\n",
      "Downloaded: CSV_Files/2017/04/20170428.csv\n",
      "Downloaded: CSV_Files/2017/04/20170427.csv\n",
      "Downloaded: CSV_Files/2017/04/20170426.csv\n",
      "Downloaded: CSV_Files/2017/04/20170425.csv\n",
      "Downloaded: CSV_Files/2017/04/20170424.csv\n",
      "Downloaded: CSV_Files/2017/04/20170423.csv\n",
      "Downloaded: CSV_Files/2017/04/20170422.csv\n",
      "Downloaded: CSV_Files/2017/04/20170421.csv\n",
      "Downloaded: CSV_Files/2017/04/20170420.csv\n",
      "Downloaded: CSV_Files/2017/04/20170419.csv\n",
      "Downloaded: CSV_Files/2017/04/20170418.csv\n",
      "Downloaded: CSV_Files/2017/04/20170417.csv\n",
      "Downloaded: CSV_Files/2017/04/20170416.csv\n",
      "Downloaded: CSV_Files/2017/04/20170415.csv\n",
      "Downloaded: CSV_Files/2017/04/20170414.csv\n",
      "Downloaded: CSV_Files/2017/04/20170413.csv\n",
      "Downloaded: CSV_Files/2017/04/20170412.csv\n",
      "Downloaded: CSV_Files/2017/04/20170411.csv\n",
      "Downloaded: CSV_Files/2017/04/20170410.csv\n",
      "Downloaded: CSV_Files/2017/04/20170409.csv\n",
      "Downloaded: CSV_Files/2017/04/20170408.csv\n",
      "Downloaded: CSV_Files/2017/04/20170407.csv\n",
      "Downloaded: CSV_Files/2017/04/20170406.csv\n",
      "Downloaded: CSV_Files/2017/04/20170405.csv\n",
      "Downloaded: CSV_Files/2017/04/20170404.csv\n",
      "Downloaded: CSV_Files/2017/04/20170403.csv\n",
      "Downloaded: CSV_Files/2017/04/20170402.csv\n",
      "Downloaded: CSV_Files/2017/04/20170401.csv\n",
      "Downloaded: CSV_Files/2016/04/20160430.csv\n",
      "Downloaded: CSV_Files/2016/04/20160429.csv\n",
      "Downloaded: CSV_Files/2016/04/20160428.csv\n",
      "Downloaded: CSV_Files/2016/04/20160427.csv\n",
      "Downloaded: CSV_Files/2016/04/20160426.csv\n",
      "Downloaded: CSV_Files/2016/04/20160425.csv\n",
      "Downloaded: CSV_Files/2016/04/20160424.csv\n",
      "Downloaded: CSV_Files/2016/04/20160423.csv\n",
      "Downloaded: CSV_Files/2016/04/20160422.csv\n",
      "Downloaded: CSV_Files/2016/04/20160421.csv\n",
      "Downloaded: CSV_Files/2016/04/20160420.csv\n",
      "Downloaded: CSV_Files/2016/04/20160419.csv\n",
      "Downloaded: CSV_Files/2016/04/20160418.csv\n",
      "Downloaded: CSV_Files/2016/04/20160417.csv\n",
      "Downloaded: CSV_Files/2016/04/20160416.csv\n",
      "Downloaded: CSV_Files/2016/04/20160415.csv\n",
      "Downloaded: CSV_Files/2016/04/20160414.csv\n",
      "Downloaded: CSV_Files/2016/04/20160413.csv\n",
      "Downloaded: CSV_Files/2016/04/20160412.csv\n",
      "Downloaded: CSV_Files/2016/04/20160411.csv\n",
      "Downloaded: CSV_Files/2016/04/20160410.csv\n",
      "Downloaded: CSV_Files/2016/04/20160409.csv\n",
      "Downloaded: CSV_Files/2016/04/20160408.csv\n",
      "Downloaded: CSV_Files/2016/04/20160407.csv\n",
      "Downloaded: CSV_Files/2016/04/20160406.csv\n",
      "Downloaded: CSV_Files/2016/04/20160405.csv\n",
      "Downloaded: CSV_Files/2016/04/20160404.csv\n",
      "Downloaded: CSV_Files/2016/04/20160403.csv\n",
      "Downloaded: CSV_Files/2016/04/20160402.csv\n",
      "Downloaded: CSV_Files/2016/04/20160401.csv\n"
     ]
    }
   ],
   "source": [
    "download_csv_files(database)\n"
   ]
  },
  {
   "cell_type": "code",
   "execution_count": 89,
   "id": "ed06015c-2932-44e0-82f3-1bf2d87e12f0",
   "metadata": {},
   "outputs": [
    {
     "name": "stdout",
     "output_type": "stream",
     "text": [
      "FINISHED\n"
     ]
    }
   ],
   "source": [
    "print(\"FINISHED\")"
   ]
  },
  {
   "cell_type": "code",
   "execution_count": null,
   "id": "2090139d-ff54-4156-8952-4a9ce9917eaf",
   "metadata": {},
   "outputs": [],
   "source": []
  }
 ],
 "metadata": {
  "kernelspec": {
   "display_name": "Python 3 (ipykernel)",
   "language": "python",
   "name": "python3"
  },
  "language_info": {
   "codemirror_mode": {
    "name": "ipython",
    "version": 3
   },
   "file_extension": ".py",
   "mimetype": "text/x-python",
   "name": "python",
   "nbconvert_exporter": "python",
   "pygments_lexer": "ipython3",
   "version": "3.11.7"
  }
 },
 "nbformat": 4,
 "nbformat_minor": 5
}
